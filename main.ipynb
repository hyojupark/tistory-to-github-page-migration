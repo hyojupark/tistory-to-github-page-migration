{
 "cells": [
  {
   "cell_type": "code",
   "execution_count": null,
   "metadata": {},
   "outputs": [],
   "source": [
    "pip install requests beautifulsoup4 markdownify"
   ]
  },
  {
   "cell_type": "code",
   "execution_count": null,
   "metadata": {},
   "outputs": [],
   "source": [
    "import os\n",
    "\n",
    "import requests\n",
    "from bs4 import BeautifulSoup as bs\n",
    "import markdownify\n",
    "import time\n",
    "\n",
    "blog_url = 'https://hyostech.tistory.com'\n",
    "image_save_dir = 'assets/images/posts'\n",
    "start_page_no = 5\n",
    "end_page_no = 148\n",
    "\n",
    "os.makedirs('_posts', exist_ok=True)\n",
    "for page_no in range(start_page_no, end_page_no + 1):\n",
    "    print(page_no, ' ... ', end='')\n",
    "    html = requests.get(f'{blog_url}/{page_no}')\n",
    "\n",
    "    if html.status_code == 404:\n",
    "        print('404')\n",
    "        continue\n",
    "\n",
    "    soup = bs(html.text, \"html.parser\")\n",
    "\n",
    "    title = soup.select_one(\".article-header .title-article\")\n",
    "    print(title.text, ' ... ', end='')\n",
    "\n",
    "    content = soup.select_one(\".article-view .contents_style\")\n",
    "    content_md = markdownify.markdownify(str(content), heading_style=\"ATX\")\n",
    " \n",
    "    category = soup.select_one(\".article-header .category\")\n",
    "    \n",
    "    date = soup.select_one(\".article-header .date\")\n",
    "    year, month, day, _ = date.text.split('.')\n",
    " \n",
    "    tags = soup.select(\".article-tag .box-tag a\")\n",
    "    tags = '\\n  '.join(list(map(lambda tag: f'- {tag.text}', tags)))\n",
    "\n",
    "    md_base_name = f'{year.strip()}-{month.strip()}-{day.strip()}-tistory-post-{page_no}'\n",
    "    image_dir = os.path.join(image_save_dir, md_base_name)\n",
    "\n",
    "    if content.select(\"img\"):\n",
    "        os.makedirs(image_dir, exist_ok=True)\n",
    "    for n, image in enumerate(content.select(\"img\"), start=1):\n",
    "        src = image['src']\n",
    "        image_path = os.path.join(image_dir, f'img-{n}.png')\n",
    "        open(image_path, 'wb').write(requests.get(src).content)\n",
    "        content_md = content_md.replace(src, f'/{image_path}')\n",
    "\n",
    "    metadata = f\"\"\"---\n",
    "title: {title.text.replace(':', '&#58;')}\n",
    "toc: true\n",
    "categories:\n",
    "  - {category.text}\n",
    "tags:\n",
    "  {tags}\n",
    "---\n",
    "\n",
    "\"\"\"\n",
    "    content_md = metadata + content_md\n",
    "    open(os.path.join('_posts', f'{md_base_name}.md'), 'w').write(content_md)\n",
    "\n",
    "    print('OK')"
   ]
  }
 ],
 "metadata": {
  "kernelspec": {
   "display_name": "Python 3",
   "language": "python",
   "name": "python3"
  },
  "language_info": {
   "codemirror_mode": {
    "name": "ipython",
    "version": 3
   },
   "file_extension": ".py",
   "mimetype": "text/x-python",
   "name": "python",
   "nbconvert_exporter": "python",
   "pygments_lexer": "ipython3",
   "version": "3.8.10"
  },
  "orig_nbformat": 4,
  "vscode": {
   "interpreter": {
    "hash": "aee8b7b246df8f9039afb4144a1f6fd8d2ca17a180786b69acc140d282b71a49"
   }
  }
 },
 "nbformat": 4,
 "nbformat_minor": 2
}
